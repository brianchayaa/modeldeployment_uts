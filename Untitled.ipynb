{
 "cells": [
  {
   "cell_type": "code",
   "execution_count": 1,
   "id": "ab4ddfdb",
   "metadata": {},
   "outputs": [
    {
     "name": "stderr",
     "output_type": "stream",
     "text": [
      "C:\\Users\\ASUS\\anaconda3\\Lib\\site-packages\\xgboost\\training.py:183: UserWarning: [12:55:40] WARNING: C:\\actions-runner\\_work\\xgboost\\xgboost\\src\\learner.cc:738: \n",
      "Parameters: { \"use_label_encoder\" } are not used.\n",
      "\n",
      "  bst.update(dtrain, iteration=i, fobj=obj)\n"
     ]
    },
    {
     "name": "stdout",
     "output_type": "stream",
     "text": [
      "Akurasi Model Terbaik: 0.9323333333333333\n",
      "\n",
      "Classification Report:\n",
      "               precision    recall  f1-score   support\n",
      "\n",
      "           0       0.95      0.97      0.96      6990\n",
      "           1       0.88      0.81      0.84      2010\n",
      "\n",
      "    accuracy                           0.93      9000\n",
      "   macro avg       0.91      0.89      0.90      9000\n",
      "weighted avg       0.93      0.93      0.93      9000\n",
      "\n",
      "Model disimpan dalam file: best_model_oop.pkl\n"
     ]
    }
   ],
   "source": [
    "import pandas as pd\n",
    "from sklearn.model_selection import train_test_split\n",
    "from sklearn.preprocessing import LabelEncoder\n",
    "from sklearn.metrics import accuracy_score, classification_report\n",
    "from xgboost import XGBClassifier\n",
    "import pickle\n",
    "\n",
    "class BestLoanModel:\n",
    "    def __init__(self, csv_path):\n",
    "        self.csv_path = csv_path\n",
    "        self.df = None\n",
    "        self.model = None\n",
    "        self.X_train = None\n",
    "        self.X_test = None\n",
    "        self.y_train = None\n",
    "        self.y_test = None\n",
    "\n",
    "    def load_and_preprocess(self):\n",
    "        self.df = pd.read_csv(self.csv_path)\n",
    "\n",
    "\n",
    "        # Encode fitur kategorikal\n",
    "        categorical_cols = [\"person_gender\", \"person_education\", \"person_home_ownership\", \"loan_intent\", \"previous_loan_defaults_on_file\"]\n",
    "        le = LabelEncoder()\n",
    "        for col in categorical_cols:\n",
    "            self.df[col] = le.fit_transform(self.df[col])\n",
    "\n",
    "        # Split fitur dan target\n",
    "        X = self.df.drop('loan_status', axis=1)\n",
    "        y = self.df['loan_status']\n",
    "        self.X_train, self.X_test, self.y_train, self.y_test = train_test_split(\n",
    "            X, y, test_size=0.2, random_state=42\n",
    "        )\n",
    "\n",
    "    def train_model(self):\n",
    "        # Gunakan model terbaik yang telah dipilih\n",
    "        self.model = XGBClassifier(use_label_encoder=False, eval_metric='logloss', random_state=42)\n",
    "        self.model.fit(self.X_train, self.y_train)\n",
    "\n",
    "    def evaluate_model(self):\n",
    "        predictions = self.model.predict(self.X_test)\n",
    "        acc = accuracy_score(self.y_test, predictions)\n",
    "        report = classification_report(self.y_test, predictions)\n",
    "        print(f\"Akurasi Model Terbaik: {acc}\\n\")\n",
    "        print(\"Classification Report:\\n\", report)\n",
    "\n",
    "    def save_model(self, filename='best_model_oop.pkl'):\n",
    "        with open(filename, 'wb') as file:\n",
    "            pickle.dump(self.model, file)\n",
    "        print(f\"Model disimpan dalam file: {filename}\")\n",
    "\n",
    "\n",
    "# Eksekusi\n",
    "if __name__ == \"__main__\":\n",
    "    model = BestLoanModel(\"Dataset_A_loan.csv\")\n",
    "    model.load_and_preprocess()\n",
    "    model.train_model()\n",
    "    model.evaluate_model()\n",
    "    model.save_model()\n"
   ]
  },
  {
   "cell_type": "code",
   "execution_count": null,
   "id": "734fed2d",
   "metadata": {},
   "outputs": [],
   "source": []
  }
 ],
 "metadata": {
  "kernelspec": {
   "display_name": "Python 3 (ipykernel)",
   "language": "python",
   "name": "python3"
  },
  "language_info": {
   "codemirror_mode": {
    "name": "ipython",
    "version": 3
   },
   "file_extension": ".py",
   "mimetype": "text/x-python",
   "name": "python",
   "nbconvert_exporter": "python",
   "pygments_lexer": "ipython3",
   "version": "3.11.5"
  }
 },
 "nbformat": 4,
 "nbformat_minor": 5
}
